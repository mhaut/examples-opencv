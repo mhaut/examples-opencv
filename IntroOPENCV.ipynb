{
 "cells": [
  {
   "cell_type": "markdown",
   "metadata": {},
   "source": [
    "# OPENCV"
   ]
  },
  {
   "cell_type": "markdown",
   "metadata": {},
   "source": [
    "En este tema, aprenderemos a manipular gráficos utilizando la librería OpenCV. El primer paso es instalar la librería"
   ]
  },
  {
   "cell_type": "code",
   "execution_count": null,
   "metadata": {},
   "outputs": [],
   "source": [
    "#!pip install opencv-python"
   ]
  },
  {
   "cell_type": "markdown",
   "metadata": {},
   "source": [
    "## Manipulación básica de imágenes"
   ]
  },
  {
   "cell_type": "markdown",
   "metadata": {},
   "source": [
    "### Carga y visualización de imágenes\n",
    "Primero, debemos cargar una imagen en nuestro programa. Esto se puede hacer con la siguiente línea de código:"
   ]
  },
  {
   "cell_type": "code",
   "execution_count": null,
   "metadata": {},
   "outputs": [],
   "source": [
    "import cv2\n",
    "img = cv2.imread(\"imagen_prueba.jpg\")"
   ]
  },
  {
   "cell_type": "markdown",
   "metadata": {},
   "source": [
    "A continuación, podemos visualizar la imagen usando el siguiente código:\n",
    "\n",
    "**Para cerrar la ventana pulsamos 0 o se colgará el notebook**"
   ]
  },
  {
   "cell_type": "code",
   "execution_count": null,
   "metadata": {},
   "outputs": [],
   "source": [
    "cv2.imshow(\"Nombre de la ventana\", img)\n",
    "cv2.waitKey(0)\n",
    "cv2.destroyAllWindows()"
   ]
  },
  {
   "cell_type": "markdown",
   "metadata": {},
   "source": [
    "### Cambio de tamaño de imagen\n",
    "Para cambiar el tamaño de una imagen, podemos usar la función cv2.resize(). Aquí hay un ejemplo de código:"
   ]
  },
  {
   "cell_type": "code",
   "execution_count": null,
   "metadata": {},
   "outputs": [],
   "source": [
    "resized_img = cv2.resize(img, (300, 300))\n",
    "cv2.imshow(\"Imagen redimensionada\", resized_img)\n",
    "cv2.waitKey(0)\n",
    "cv2.destroyAllWindows()"
   ]
  },
  {
   "cell_type": "markdown",
   "metadata": {},
   "source": [
    "### Recorte de imágenes\n",
    "Para recortar una imagen, podemos usar la siguiente línea de código:"
   ]
  },
  {
   "cell_type": "code",
   "execution_count": null,
   "metadata": {},
   "outputs": [],
   "source": [
    "y_inicio = 30; y_fin = -30\n",
    "x_inicio = 50; x_fin = -50\n",
    "cropped_img = img[y_inicio:y_fin, x_inicio:x_fin]\n",
    "cv2.imshow(\"Imagen recortada\", cropped_img)\n",
    "cv2.waitKey(0)\n",
    "cv2.destroyAllWindows()"
   ]
  },
  {
   "cell_type": "markdown",
   "metadata": {},
   "source": [
    "## Transformaciones de color"
   ]
  },
  {
   "cell_type": "markdown",
   "metadata": {},
   "source": [
    "OpenCV proporciona diferentes transformaciones de color para cambiar el aspecto de una imagen. Algunos ejemplos incluyen:"
   ]
  },
  {
   "cell_type": "markdown",
   "metadata": {},
   "source": [
    "**Conversión a escala de grises**"
   ]
  },
  {
   "cell_type": "code",
   "execution_count": null,
   "metadata": {},
   "outputs": [],
   "source": [
    "gray_img = cv2.cvtColor(img, cv2.COLOR_BGR2GRAY)\n",
    "cv2.imshow(\"Imagen en escala de grises\", gray_img)\n",
    "cv2.waitKey(0)\n",
    "cv2.destroyAllWindows()"
   ]
  },
  {
   "cell_type": "markdown",
   "metadata": {},
   "source": [
    "**Conversión a HSV (espacio de color de tono, saturación y brillo)**"
   ]
  },
  {
   "cell_type": "code",
   "execution_count": null,
   "metadata": {},
   "outputs": [],
   "source": [
    "hsv_img = cv2.cvtColor(img, cv2.COLOR_BGR2HSV)\n",
    "cv2.imshow(\"Imagen en HSV\", hsv_img)\n",
    "cv2.waitKey(0)\n",
    "cv2.destroyAllWindows()"
   ]
  },
  {
   "cell_type": "markdown",
   "metadata": {},
   "source": [
    "## Filtros de imagen"
   ]
  },
  {
   "cell_type": "markdown",
   "metadata": {},
   "source": [
    "El desenfoque o \"blurring\" es un proceso en el que se suaviza una imagen para reducir la cantidad de detalles y ruido. Existen diferentes técnicas de desenfoque que se pueden usar en OpenCV. Aquí hay una explicación de algunas de ellas:\n",
    "\n",
    "**Desenfoque Gaussiano:** El desenfoque Gaussiano es una técnica de desenfoque que utiliza un filtro Gaussiano para suavizar una imagen. Este filtro toma en cuenta los valores de los pixels circundantes y los pesa en función de su distancia del pixel central. El resultado es una imagen suavizada que reduce el ruido y la textura.\n",
    "\n",
    "**Desenfoque de mediana:** El desenfoque de mediana es una técnica de desenfoque que utiliza un filtro de mediana para suavizar una imagen. Este filtro reemplaza el valor de un pixel con la mediana de los valores de los pixels circundantes. Este proceso se repite para cada pixel en la imagen, resultando en una imagen suavizada que reduce el ruido y la textura.\n",
    "\n",
    "**Desenfoque bilateral:** El desenfoque bilateral es una técnica de desenfoque que combina tanto el desenfoque Gaussiano como el desenfoque de mediana. Este filtro toma en cuenta tanto la distancia de los pixels circundantes como su diferencia en intensidad, y pesa estos valores para suavizar la imagen. El resultado es una imagen suavizada que reduce el ruido y la textura sin afectar significativamente los bordes y las formas en la imagen."
   ]
  },
  {
   "cell_type": "markdown",
   "metadata": {},
   "source": [
    "**Filtro gausiano**\n",
    "\n",
    "En este ejemplo, primero se carga una imagen en una variable img. Luego, se aplica un desenfoque Gaussiano a la imagen utilizando la función cv2.GaussianBlur. La función toma como argumentos la imagen a desenfocar, el tamaño del kernel (15x15 en este caso), y la desviación estándar del filtro Gaussiano (0 en este caso)."
   ]
  },
  {
   "cell_type": "code",
   "execution_count": null,
   "metadata": {},
   "outputs": [],
   "source": [
    "gaussian_img = cv2.GaussianBlur(img, (15, 15), 0)\n",
    "cv2.imshow(\"Imagen con filtro Gaussiano\", gaussian_img)\n",
    "cv2.waitKey(0)\n",
    "cv2.destroyAllWindows()"
   ]
  },
  {
   "cell_type": "markdown",
   "metadata": {},
   "source": [
    "**Filtro bilateral**\n",
    "\n",
    "En este ejemplo, primero se carga una imagen en una variable img. Luego, se aplica un desenfoque bilateral a la imagen utilizando la función cv2.bilateralFilter. La función toma como argumentos la imagen a desenfocar, el tamaño del kernel (9 en este caso), la desviación estándar en el espacio (375 en este caso) y la desviación estándar en la intensidad (375 en este caso).\n",
    "\n",
    "Después de aplicar el desenfoque bilateral, se muestra la imagen desenfocada en una ventana usando cv2.imshow y se espera a que se presione una tecla para cerrar la ventana con cv2.waitKey. Por último, se cierran todas las ventanas con cv2.destroyAllWindows."
   ]
  },
  {
   "cell_type": "code",
   "execution_count": null,
   "metadata": {},
   "outputs": [],
   "source": [
    "bilateral_img = cv2.bilateralFilter(img, 9, 375, 375)\n",
    "cv2.imshow(\"Imagen con filtro bilateral\", bilateral_img)\n",
    "cv2.waitKey(0)\n",
    "cv2.destroyAllWindows()"
   ]
  },
  {
   "cell_type": "markdown",
   "metadata": {},
   "source": [
    "**Filtro de mediana**\n",
    "\n",
    "En este ejemplo, primero se carga una imagen en una variable img. Luego, se aplica un desenfoque de mediana a la imagen utilizando la función cv2.medianBlur. La función toma como argumentos la imagen a desenfocar y el tamaño del kernel (5 en este caso).\n",
    "\n",
    "Después de aplicar el desenfoque de mediana, se muestra la imagen desenfocada en una ventana usando cv2.imshow y se espera a que se presione una tecla para cerrar la ventana con cv2.waitKey. Por último, se cierran todas las ventanas con cv2.destroyAllWindows."
   ]
  },
  {
   "cell_type": "code",
   "execution_count": null,
   "metadata": {},
   "outputs": [],
   "source": [
    "median = cv2.medianBlur(img, 5)\n",
    "cv2.imshow(\"Imagen con filtro de mediana\", median)\n",
    "cv2.waitKey(0)\n",
    "cv2.destroyAllWindows()"
   ]
  },
  {
   "cell_type": "markdown",
   "metadata": {},
   "source": [
    "## Detección de Bordes"
   ]
  },
  {
   "cell_type": "markdown",
   "metadata": {},
   "source": [
    "**Filtro Sobel**\n",
    "\n",
    "El filtro de Sobel y la detección de bordes Canny son dos operadores diferentes que se utilizan para detectar bordes en imágenes.\n",
    "\n",
    "El filtro de Sobel es un operador de detección de bordes que se basa en el cálculo de la derivada de la imagen. Se aplica en dos direcciones diferentes: el eje X y el eje Y. El filtro en el eje X detecta bordes horizontales y el filtro en el eje Y detecta bordes verticales. La combinación de estos dos filtros permite detectar bordes en cualquier dirección.\n",
    "\n",
    "Por otro lado, la detección de bordes Canny es un algoritmo más complejo que incluye varios pasos, incluyendo la aplicación de un filtro Gaussiano para suavizar la imagen, la aplicación de un filtro de Sobel para calcular el gradiente de la imagen y la aplicación de un algoritmo de supresión de no máximos para quitar los bordes falsos y mantener solo los bordes verdaderos."
   ]
  },
  {
   "cell_type": "code",
   "execution_count": null,
   "metadata": {},
   "outputs": [],
   "source": [
    "import numpy as np\n",
    "import cv2\n",
    "\n",
    "# Cargar imagen\n",
    "img = cv2.imread(\"imagen_prueba.jpg\", cv2.IMREAD_GRAYSCALE)\n",
    "\n",
    "# Definimos los kernels de Sobel en las direcciones X e Y\n",
    "kernel_x = np.array([[-1, 0, 1], [-2, 0, 2], [-1, 0, 1]])\n",
    "kernel_y = np.array([[-1, -2, -1], [0, 0, 0], [1, 2, 1]])\n",
    "\n",
    "# Aplicamos los kernels a la imagen utilizando una convolución\n",
    "sobel_x = cv2.filter2D(img, -1, kernel_x)\n",
    "sobel_y = cv2.filter2D(img, -1, kernel_y)\n",
    "\n",
    "# Combinamos los resultados en las direcciones X e Y para obtener la magnitud del gradiente\n",
    "magnitude = np.sqrt(sobel_x**2 + sobel_y**2)\n",
    "direction = np.arctan2(sobel_y, sobel_x)\n",
    "\n",
    "# Normalizamos los resultados y los mostramos\n",
    "magnitude = (magnitude / np.max(magnitude)) * 255\n",
    "direction = (direction / np.max(direction)) * 255\n",
    "\n",
    "# Mostrar resultados\n",
    "cv2.imshow(\"Input\", img)\n",
    "cv2.imshow(\"Sobel X\", sobel_x)\n",
    "cv2.imshow(\"Sobel Y\", sobel_y)\n",
    "cv2.imshow(\"Magnitude\", magnitude.astype(\"uint8\"))\n",
    "cv2.imshow(\"Direction\", direction.astype(\"uint8\"))\n",
    "cv2.waitKey(0)\n",
    "cv2.destroyAllWindows()"
   ]
  },
  {
   "cell_type": "markdown",
   "metadata": {},
   "source": [
    "Podemos utilizar la función de OpenCV"
   ]
  },
  {
   "cell_type": "code",
   "execution_count": null,
   "metadata": {},
   "outputs": [],
   "source": [
    "import cv2\n",
    "import numpy as np\n",
    "\n",
    "# Cargar imagen\n",
    "img = cv2.imread('imagen_prueba.jpg', 0)\n",
    "\n",
    "# Aplicar filtro de Sobel en el eje X\n",
    "sobel_x = cv2.Sobel(img, cv2.CV_64F, 1, 0, ksize=5)\n",
    "\n",
    "# Aplicar filtro de Sobel en el eje Y\n",
    "sobel_y = cv2.Sobel(img, cv2.CV_64F, 0, 1, ksize=5)\n",
    "\n",
    "# Obtener magnitud y dirección\n",
    "magnitude = np.sqrt(np.square(sobel_x) + np.square(sobel_y))\n",
    "direction = np.arctan2(sobel_y, sobel_x)\n",
    "\n",
    "# Mostrar resultados\n",
    "cv2.imshow(\"Input\", img)\n",
    "cv2.imshow(\"Sobel X\", sobel_x)\n",
    "cv2.imshow(\"Sobel Y\", sobel_y)\n",
    "cv2.imshow(\"Magnitude\", magnitude)\n",
    "cv2.imshow(\"Direction\", direction)\n",
    "cv2.waitKey(0)\n",
    "cv2.destroyAllWindows()"
   ]
  },
  {
   "cell_type": "markdown",
   "metadata": {},
   "source": [
    "**Detección de bordes**"
   ]
  },
  {
   "cell_type": "markdown",
   "metadata": {},
   "source": [
    "La detección de bordes Canny es un algoritmo utilizado en visión por computadora para encontrar bordes en imágenes. Se basa en la detección de gradientes en la imagen, que indican cambios bruscos de intensidad. La detección de bordes Canny es uno de los métodos más populares y utilizados para la detección de bordes debido a su eficacia y facilidad de implementación.\n",
    "\n",
    "El algoritmo Canny consiste en varios pasos:\n",
    "1. Suavizado de la imagen: se aplica un filtro gaussiano a la imagen para suavizar los ruidos y destacar los bordes.\n",
    "2. Cálculo del gradiente: se calcula el gradiente de la imagen suavizada para encontrar la dirección y magnitud de los bordes.\n",
    "3. Nivel de umbral: se utiliza un nivel de umbral para determinar qué gradientes son considerados como bordes y cuáles no.\n",
    "4. Supresión no máxima: se suprimen los gradientes que no son máximos en la dirección del gradiente para evitar la detección de bordes múltiples.\n",
    "5. Umbrales dobles: se utilizan dos niveles de umbral para determinar la continuidad de los bordes. Los gradientes con una magnitud mayor que el umbral superior se consideran bordes definitivos. Los gradientes con una magnitud entre los umbrales inferior y superior se conservan solo si están conectados a bordes definitivos."
   ]
  },
  {
   "cell_type": "code",
   "execution_count": null,
   "metadata": {},
   "outputs": [],
   "source": [
    "# https://docs.opencv.org/4.x/da/d22/tutorial_py_canny.html\n",
    "import cv2\n",
    "import numpy as np\n",
    "\n",
    "# Cargar una imagen\n",
    "img = cv2.imread(\"imagen_prueba.jpg\", 0)\n",
    "\n",
    "# Suavizar la imagen con un filtro Gaussiano\n",
    "blurred = cv2.GaussianBlur(img, (5, 5), 0)\n",
    "\n",
    "# Calcular el gradiente de la imagen suavizada\n",
    "sobel_x = cv2.Sobel(blurred, cv2.CV_64F, 1, 0, ksize=3)\n",
    "sobel_y = cv2.Sobel(blurred, cv2.CV_64F, 0, 1, ksize=3)\n",
    "\n",
    "# Calcular la magnitud y dirección del gradiente\n",
    "magnitude = np.sqrt(sobel_x**2 + sobel_y**2)\n",
    "direction = np.arctan2(sobel_y, sobel_x) * (180 / np.pi)\n",
    "\n",
    "# Normalizar la magnitud del gradiente a [0, 255]\n",
    "magnitude = (magnitude / np.max(magnitude)) * 255\n",
    "\n",
    "# Aplicar niveles de umbral\n",
    "upper_threshold = 195\n",
    "lower_threshold = 100\n",
    "thresholded = np.zeros(img.shape)\n",
    "thresholded[magnitude > upper_threshold] = 255\n",
    "\n",
    "# Suprimir los gradientes no máximos\n",
    "for i in range(1, img.shape[0] - 1):\n",
    "    for j in range(1, img.shape[1] - 1):\n",
    "        angle = direction[i, j]\n",
    "        if angle < 0:\n",
    "            angle += 180\n",
    "        if (angle >= 0 and angle < 22.5) or (angle >= 157.5 and angle <= 180):\n",
    "            if magnitude[i, j] < magnitude[i, j + 1] or magnitude[i, j] < magnitude[i, j - 1]:\n",
    "                thresholded[i, j] = 0\n",
    "        elif angle >= 22.5 and angle < 67.5:\n",
    "            if magnitude[i, j] < magnitude[i - 1, j + 1] or magnitude[i, j] < magnitude[i + 1, j - 1]:\n",
    "                thresholded[i, j] = 0\n",
    "        elif angle >= 67.5 and angle < 112.5:\n",
    "            if magnitude[i, j] < magnitude[i - 1, j] or magnitude[i, j] < magnitude[i + 1, j]:\n",
    "                thresholded[i, j] = 0\n",
    "        elif angle >= 112.5 and angle < 157.5:\n",
    "            if magnitude[i, j] < magnitude[i - 1, j - 1] or magnitude[i, j] < magnitude[i + 1, j + 1]:\n",
    "                thresholded[i, j] = 0\n",
    "\n",
    "                \n",
    "# Aplicar umbrales dobles\n",
    "strong_edges = np.zeros(img.shape)\n",
    "strong_edges[magnitude > upper_threshold] = 255\n",
    "weak_edges = np.zeros(img.shape)\n",
    "weak_edges[(magnitude > lower_threshold) & (magnitude <= upper_threshold)] = 255\n",
    "\n",
    "# Conectar bordes débiles a bordes fuertes\n",
    "result = np.zeros(img.shape)\n",
    "for i in range(1, img.shape[0] - 1):\n",
    "    for j in range(1, img.shape[1] - 1):\n",
    "        if strong_edges[i, j] == 255:\n",
    "            result[i, j] = 255\n",
    "        elif weak_edges[i, j] == 255:\n",
    "            if (strong_edges[i - 1, j - 1] == 255) or (strong_edges[i - 1, j] == 255) or (strong_edges[i - 1, j + 1] == 255) or (strong_edges[i, j - 1] == 255) or (strong_edges[i, j + 1] == 255) or (strong_edges[i + 1, j - 1] == 255) or (strong_edges[i + 1, j] == 255) or (strong_edges[i + 1, j + 1] == 255):\n",
    "                result[i, j] = 255\n",
    "\n",
    "# Mostrar resultados\n",
    "cv2.imshow(\"Result\", result)\n",
    "cv2.waitKey(0)\n",
    "cv2.destroyAllWindows()"
   ]
  },
  {
   "cell_type": "markdown",
   "metadata": {},
   "source": [
    "Podemos implementar esto con OpenCV"
   ]
  },
  {
   "cell_type": "code",
   "execution_count": null,
   "metadata": {},
   "outputs": [],
   "source": [
    "edges_img = cv2.Canny(img, 100, 195)\n",
    "cv2.imshow(\"Imagen con bordes destacados\", edges_img)\n",
    "cv2.waitKey(0)\n",
    "cv2.destroyAllWindows()"
   ]
  }
 ],
 "metadata": {
  "kernelspec": {
   "display_name": "Python 3 (ipykernel)",
   "language": "python",
   "name": "python3"
  },
  "language_info": {
   "codemirror_mode": {
    "name": "ipython",
    "version": 3
   },
   "file_extension": ".py",
   "mimetype": "text/x-python",
   "name": "python",
   "nbconvert_exporter": "python",
   "pygments_lexer": "ipython3",
   "version": "3.10.6"
  }
 },
 "nbformat": 4,
 "nbformat_minor": 4
}
